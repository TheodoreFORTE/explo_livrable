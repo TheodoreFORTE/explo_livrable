{
 "cells": [
  {
   "cell_type": "code",
   "execution_count": 2,
   "metadata": {},
   "outputs": [],
   "source": [
    "import pandas as pd\n",
    "athlete_events= pd.read_csv('/Users/camille/repo/Hetic/analyse_explo/dataset_csv/athlete_events.csv')"
   ]
  },
  {
   "cell_type": "code",
   "execution_count": 4,
   "metadata": {},
   "outputs": [],
   "source": [
    "country =  {'Madrid':'Spain',\n",
    "            'Roma':'Italy',\n",
    "            'Amsterdam':'Netherlands',\n",
    "            'Tokyo':'Japan' ,\n",
    "            'Helsinki':'Finland',\n",
    "            'Los Angeles':'USA' ,\n",
    "            'London':'England' ,\n",
    "            'Berlin':'Germany' ,\n",
    "            'Melbourne':'Australia' ,\n",
    "            'Paris':'France',\n",
    "            'Mexico City':'Mexico',\n",
    "            'Munich':'Germany',\n",
    "            'Seoul':'South Korea',\n",
    "            'Barcelona':'Spain',\n",
    "            'Atlanta':'USA',\n",
    "            'Sydney':'Australia',\n",
    "            'Athina':'Greece',\n",
    "            'Beijing':'China',\n",
    "            'Rio de Janeiro':'Brasil',\n",
    "            'St. Louis':'USA',\n",
    "            'Montreal':'Canada',\n",
    "            'Moskva':'Russia',\n",
    "            'Calgary':'Canada',\n",
    "            'Lillehammer':'Norway',\n",
    "            'Salt Lake City':'USA',\n",
    "            \"Cortina d'Ampezzo\":'Italy',\n",
    "            'Innsbruck':'Austria',\n",
    "            'Grenoble':'France',\n",
    "            'Saporo':'Japan',\n",
    "            'Nagano':'Japan',\n",
    "            'Torino':'Italy',\n",
    "            'Vancouver':'Canada',\n",
    "            'Sochi':'Russia',\n",
    "            'Stockholm':'Sweden',\n",
    "            'Sankt Moritz':'Switzerland',\n",
    "            'Oslo':'Norway',\n",
    "            'Squaw Valley':'USA',\n",
    "            'Sarajevo':'Bosnia and Herzegovina',\n",
    "            'Albertville':'France',\n",
    "            'Lake Placid':'USA',\n",
    "            'Chamonix':'France',\n",
    "            'Garmisch-Partenkirchen':'Germany',\n",
    "            'Antwerpen' : 'Belgium',\n",
    "            'Sapporo' : 'Japan'\n",
    "\n",
    "            }\n",
    "\n"
   ]
  },
  {
   "cell_type": "code",
   "execution_count": 15,
   "metadata": {},
   "outputs": [],
   "source": [
    "athlete_events[\"Country_orga\"]= athlete_events[\"City\"].map(country)"
   ]
  },
  {
   "cell_type": "code",
   "execution_count": 23,
   "metadata": {},
   "outputs": [
    {
     "data": {
      "text/plain": [
       "0"
      ]
     },
     "execution_count": 23,
     "metadata": {},
     "output_type": "execute_result"
    }
   ],
   "source": [
    "athlete_events[\"Country\"].isnull().sum()"
   ]
  },
  {
   "cell_type": "code",
   "execution_count": null,
   "metadata": {},
   "outputs": [],
   "source": [
    "athlete_events[\"nb_medals_year_country_season\"] = athlete_events.groupby(['Team', 'Season', 'Country_orga','Medal','Event']).Year.transform(\"count\")"
   ]
  },
  {
   "cell_type": "code",
   "execution_count": null,
   "metadata": {},
   "outputs": [],
   "source": [
    "ioc = pd.read_html('https://en.wikipedia.org/wiki/List_of_IOC_country_codes')[0]\n",
    "ioc = ioc.assign(Code=ioc['Code'].str[-3:]).set_index('Code')['National Olympic Committee']\n",
    "\n",
    "athlete_events['countryName'] = athlete_events['NOC'].map(ioc)\n",
    "athlete_events.drop([\"Country\"])"
   ]
  }
 ],
 "metadata": {
  "kernelspec": {
   "display_name": "notebook_env",
   "language": "python",
   "name": "python3"
  },
  "language_info": {
   "codemirror_mode": {
    "name": "ipython",
    "version": 3
   },
   "file_extension": ".py",
   "mimetype": "text/x-python",
   "name": "python",
   "nbconvert_exporter": "python",
   "pygments_lexer": "ipython3",
   "version": "3.10.2 (v3.10.2:a58ebcc701, Jan 13 2022, 14:50:16) [Clang 13.0.0 (clang-1300.0.29.30)]"
  },
  "orig_nbformat": 4,
  "vscode": {
   "interpreter": {
    "hash": "41fba93d83b61576bfa0d097f4901b85ad577ef97b7c4e28015daf92554e79fa"
   }
  }
 },
 "nbformat": 4,
 "nbformat_minor": 2
}
