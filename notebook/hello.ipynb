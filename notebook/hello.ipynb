{
 "cells": [
  {
   "cell_type": "code",
   "execution_count": 2,
   "metadata": {},
   "outputs": [],
   "source": [
    "import pandas as pd"
   ]
  },
  {
   "cell_type": "code",
   "execution_count": 6,
   "metadata": {},
   "outputs": [
    {
     "name": "stderr",
     "output_type": "stream",
     "text": [
      "/Users/camille/repo/Hetic/analyse_explo/explo_env/lib/python3.10/site-packages/openpyxl/styles/stylesheet.py:226: UserWarning: Workbook contains no default style, apply openpyxl's default\n",
      "  warn(\"Workbook contains no default style, apply openpyxl's default\")\n",
      "/Users/camille/repo/Hetic/analyse_explo/explo_env/lib/python3.10/site-packages/openpyxl/styles/stylesheet.py:226: UserWarning: Workbook contains no default style, apply openpyxl's default\n",
      "  warn(\"Workbook contains no default style, apply openpyxl's default\")\n"
     ]
    }
   ],
   "source": [
    "event = pd.read_csv('/Users/camille/repo/Hetic/analyse_explo/Dataset/athlete_events.csv')\n",
    "athlethe = pd.read_excel('/Users/camille/repo/Hetic/analyse_explo/Dataset/Athletes_2.xlsx')\n",
    "coaches = pd.read_excel('/Users/camille/repo/Hetic/analyse_explo/Dataset/Coaches_2.xlsx')\n",
    "gender = pd.read_excel('/Users/camille/repo/Hetic/analyse_explo/Dataset/EntriesGender_1.xlsx')\n",
    "medals = pd.read_excel('/Users/camille/repo/Hetic/analyse_explo/Dataset/Medals_1.xlsx')\n",
    "teams = pd.read_excel('/Users/camille/repo/Hetic/analyse_explo/Dataset/Teams_2.xlsx')"
   ]
  },
  {
   "cell_type": "code",
   "execution_count": 8,
   "metadata": {},
   "outputs": [],
   "source": [
    "coaches.to_csv('coaches.csv')\n",
    "gender.to_csv('gender.csv')\n",
    "medals.to_csv('medals.csv')\n",
    "teams.to_csv('teams.csv')"
   ]
  }
 ],
 "metadata": {
  "kernelspec": {
   "display_name": "explo_env",
   "language": "python",
   "name": "python3"
  },
  "language_info": {
   "codemirror_mode": {
    "name": "ipython",
    "version": 3
   },
   "file_extension": ".py",
   "mimetype": "text/x-python",
   "name": "python",
   "nbconvert_exporter": "python",
   "pygments_lexer": "ipython3",
   "version": "3.10.2"
  },
  "orig_nbformat": 4,
  "vscode": {
   "interpreter": {
    "hash": "de8dabded9160c05795ebff51b1f19e8f278c4ffc16c2983d297e5670669de5a"
   }
  }
 },
 "nbformat": 4,
 "nbformat_minor": 2
}
