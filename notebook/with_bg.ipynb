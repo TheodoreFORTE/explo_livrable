{
 "cells": [
  {
   "attachments": {},
   "cell_type": "markdown",
   "metadata": {},
   "source": [
    "Data récuperé sur collab "
   ]
  },
  {
   "cell_type": "code",
   "execution_count": null,
   "metadata": {},
   "outputs": [],
   "source": [
    "import pandas as pd\n",
    "import numpy as np "
   ]
  },
  {
   "cell_type": "code",
   "execution_count": null,
   "metadata": {},
   "outputs": [],
   "source": [
    "\"\"\"\n",
    "import pandas as pd\n",
    "# @title Setup\n",
    "from google.colab import auth\n",
    "from google.cloud import bigquery\n",
    "from google.colab import data_table\n",
    "\n",
    "project = 'projectjo2024' \n",
    "from google.colab import auth\n",
    "auth.authenticate_user()\n",
    "client = bigquery.Client(project=project)\n",
    "data_table.enable_dataframe_formatter()\n",
    "client = bigquery.Client(project=project)\n",
    "athlete_events = client.query('''\n",
    "\n",
    "SELECT * FROM `projectjo2024.2024_122022.athlete_events`\n",
    "\n",
    "  ''').to_dataframe()\n",
    "  \"\"\""
   ]
  },
  {
   "cell_type": "code",
   "execution_count": null,
   "metadata": {},
   "outputs": [],
   "source": [
    "\"\"\"c2 = {\n",
    "    \"URS\" : \"Soviet Union\",\n",
    "    \"RHO\" : \"Rhodesia\",\n",
    "    \"SAA\" : \"Saar\",\n",
    "    \"CRT\" : 'Crete',\n",
    "    \"WIF\" : \"West Indies Federation \",\n",
    "    \"MAL\" :  \"Malaysia\",\n",
    "    'BOH' : \" Bohemia\",\n",
    "    \"LIB\" : \"French Liban\",\n",
    "    \"UNK\" : \"Unknow\", \n",
    "    \"YUG\" : \"Yugoslavia\", \n",
    "    \"ANZ\" : \"Australasia\",\n",
    "    \"YAR\" : \" Yemen Arab Republic\", \n",
    "    \"YMD\" : \"South Yemen\",\n",
    "    \"GRD\" : \"GRENADA\",\n",
    "    \"NFL\" : \"USA\", \n",
    "    \"NBO\" : \"North Borneo\",\n",
    "    \"EUN\" : \"Unified Team\",\n",
    "    \"FRG\" : \"West Germany\",\n",
    "    \"VMH\" : \"South Vietnam\",\n",
    "    \"TCH\" : \"Czechoslovakia\",\n",
    "    \"AHO\" : \"Netherlands Antilles\", \n",
    "    \"UAR\" : \"United Arab Republic\",\n",
    "    \"SCG\" : \"Serbia and Montenegro\",\n",
    "    \"ROT\" : \"Refugee Olympic Team\",\n",
    "    \"GDR\" : \"East Germany\",\n",
    "    \"VNM\" :  \"Vietnam\", \n",
    "    \"IOA\" : \"Indian Olympic Association\"\n",
    "\n",
    "    }\n",
    "ioc = pd.read_html('https://en.wikipedia.org/wiki/List_of_IOC_country_codes')[0]\n",
    "ioc = ioc.assign(Code=ioc['Code'].str[-3:]).set_index('Code')['National Olympic Committee']\n",
    "ioc = ioc.to_dict()\n",
    "ioc.update(c2)\n",
    "athlete_events['countryName'] = athlete_events['NOC'].map(ioc) \n",
    "athlete_events= athlete_events.drop([\"NOC\"], axis=1)\n",
    "\"\"\""
   ]
  },
  {
   "attachments": {},
   "cell_type": "markdown",
   "metadata": {},
   "source": [
    "Pour connaitre les NaNs"
   ]
  },
  {
   "cell_type": "code",
   "execution_count": null,
   "metadata": {},
   "outputs": [],
   "source": [
    "\"\"\"\"\n",
    "athlete_events['countryName'].isna().sum()\n",
    "nan_in_col  = athlete_events[athlete_events['countryName'].isnull()]\n",
    "nan_in_col.NOC.unique()\n",
    "\"\"\""
   ]
  },
  {
   "cell_type": "code",
   "execution_count": null,
   "metadata": {},
   "outputs": [],
   "source": [
    "athlete_events= pd.read_csv('/Users/camille/repo/Hetic/analyse_explo/athlete_events.csv')"
   ]
  },
  {
   "cell_type": "code",
   "execution_count": null,
   "metadata": {},
   "outputs": [],
   "source": [
    "country =  {'Madrid':'Spain',\n",
    "            'Roma':'Italy',\n",
    "            'Amsterdam':'Netherlands',\n",
    "            'Tokyo':'Japan' ,\n",
    "            'Helsinki':'Finland',\n",
    "            'Los Angeles':'USA' ,\n",
    "            'London':'England' ,\n",
    "            'Berlin':'Germany' ,\n",
    "            'Melbourne':'Australia' ,\n",
    "            'Paris':'France',\n",
    "            'Mexico City':'Mexico',\n",
    "            'Munich':'Germany',\n",
    "            'Seoul':'South Korea',\n",
    "            'Barcelona':'Spain',\n",
    "            'Atlanta':'USA',\n",
    "            'Sydney':'Australia',\n",
    "            'Athina':'Greece',\n",
    "            'Beijing':'China',\n",
    "            'Rio de Janeiro':'Brasil',\n",
    "            'St. Louis':'USA',\n",
    "            'Montreal':'Canada',\n",
    "            'Moskva':'Russia',\n",
    "            'Calgary':'Canada',\n",
    "            'Lillehammer':'Norway',\n",
    "            'Salt Lake City':'USA',\n",
    "            \"Cortina d'Ampezzo\":'Italy',\n",
    "            'Innsbruck':'Austria',\n",
    "            'Grenoble':'France',\n",
    "            'Saporo':'Japan',\n",
    "            'Nagano':'Japan',\n",
    "            'Torino':'Italy',\n",
    "            'Vancouver':'Canada',\n",
    "            'Sochi':'Russia',\n",
    "            'Stockholm':'Sweden',\n",
    "            'Sankt Moritz':'Switzerland',\n",
    "            'Oslo':'Norway',\n",
    "            'Squaw Valley':'USA',\n",
    "            'Sarajevo':'Bosnia and Herzegovina',\n",
    "            'Albertville':'France',\n",
    "            'Lake Placid':'USA',\n",
    "            'Chamonix':'France',\n",
    "            'Garmisch-Partenkirchen':'Germany',\n",
    "            'Antwerpen' : 'Belgium',\n",
    "            'Sapporo' : 'Japan'\n",
    "\n",
    "            }\n",
    "\n"
   ]
  },
  {
   "cell_type": "code",
   "execution_count": null,
   "metadata": {},
   "outputs": [],
   "source": [
    "athlete_events[\"Country_orga\"]= athlete_events[\"City\"].map(country)\n",
    "athlete_events= athlete_events.drop([\"City\"], axis=1)"
   ]
  },
  {
   "cell_type": "code",
   "execution_count": null,
   "metadata": {},
   "outputs": [],
   "source": [
    "athlete_events[\"at_home\"] = np.where(athlete_events['Country_orga']== athlete_events[\"countryName\"], True, False)\n"
   ]
  },
  {
   "cell_type": "code",
   "execution_count": null,
   "metadata": {},
   "outputs": [],
   "source": [
    "athlete_events['Medal'].isna().sum()\n"
   ]
  },
  {
   "cell_type": "code",
   "execution_count": null,
   "metadata": {},
   "outputs": [],
   "source": [
    "athlete_events"
   ]
  },
  {
   "cell_type": "code",
   "execution_count": null,
   "metadata": {},
   "outputs": [],
   "source": [
    "df = athlete_events.groupby(['Games','countryName', 'Medal']).Event.nunique().to_frame('count')"
   ]
  },
  {
   "cell_type": "code",
   "execution_count": null,
   "metadata": {},
   "outputs": [],
   "source": [
    "df_pivot = pd.pivot_table(athlete_events, values= )"
   ]
  },
  {
   "cell_type": "code",
   "execution_count": null,
   "metadata": {},
   "outputs": [],
   "source": [
    "sum_men = df[df['Gender']=='M'].groupby ('Country' )['Score'].sum().reset_index() #watch the reset_index()\n",
    "sum_women = df[df['Gender']=='W'].groupby ('Country' )['Score'].sum().reset_index()\n",
    "new_df = sum_men.merge(sum_women, on=\"Country\")\n",
    "new_df['diff'] = new_df['Score_x'] - new_df['Score_y']\n",
    "new_df"
   ]
  },
  {
   "cell_type": "code",
   "execution_count": null,
   "metadata": {},
   "outputs": [],
   "source": [
    "medal_counts = athlete_events.pivot_table(index=['countryName', 'Games'], values='Event', columns= 'Medal', aggfunc=lambda x: len(x.unique()))\n"
   ]
  },
  {
   "cell_type": "code",
   "execution_count": null,
   "metadata": {},
   "outputs": [],
   "source": [
    "medal_counts.reset_index(inplace=True)"
   ]
  },
  {
   "cell_type": "code",
   "execution_count": null,
   "metadata": {},
   "outputs": [],
   "source": [
    "medal_counts.fillna(0, inplace=True)"
   ]
  },
  {
   "cell_type": "code",
   "execution_count": null,
   "metadata": {},
   "outputs": [],
   "source": [
    "medal_counts['Total'] = medal_counts['Gold'] + medal_counts['Silver'] + medal_counts['Bronze']\n",
    "medal_counts"
   ]
  },
  {
   "cell_type": "code",
   "execution_count": null,
   "metadata": {},
   "outputs": [],
   "source": [
    "medal_countsA = athlete_events.pivot_table(index=['countryName', 'Games', 'at_home'], values='Event', columns= 'Medal', aggfunc=lambda x: len(x.unique()))"
   ]
  },
  {
   "cell_type": "code",
   "execution_count": null,
   "metadata": {},
   "outputs": [],
   "source": [
    "medal_countsA.reset_index(inplace=True)\n"
   ]
  },
  {
   "cell_type": "code",
   "execution_count": null,
   "metadata": {},
   "outputs": [],
   "source": [
    "medal_countsA"
   ]
  },
  {
   "cell_type": "code",
   "execution_count": null,
   "metadata": {},
   "outputs": [],
   "source": [
    "medal_counts_full=pd.merge(medal_counts, medal_countsA[[\"countryName\", \"Games\", \"at_home\"] ], on=[\"countryName\", \"Games\"])\n"
   ]
  },
  {
   "cell_type": "code",
   "execution_count": null,
   "metadata": {},
   "outputs": [],
   "source": [
    "medal_counts_full[ medal_counts_full['at_home']] "
   ]
  },
  {
   "cell_type": "code",
   "execution_count": null,
   "metadata": {},
   "outputs": [],
   "source": [
    "medal_counts_full.loc[ medal_counts_full['at_home'] , 'Total_host']=medal_counts_full['Total'] \n",
    "medal_counts_full.loc[ medal_counts_full['at_home']==False , 'Total_not_host']=medal_counts_full['Total'] \n",
    "medal_counts_full\n"
   ]
  },
  {
   "cell_type": "code",
   "execution_count": null,
   "metadata": {},
   "outputs": [],
   "source": [
    "medal_counts_full.loc[ medal_counts_full['at_home'] , 'Total_host']=medal_counts_full['Total'] \n",
    "medal_counts_full\n"
   ]
  },
  {
   "cell_type": "code",
   "execution_count": null,
   "metadata": {},
   "outputs": [],
   "source": [
    "medal_counts['Total'] = medal_counts['Gold'] + medal_counts['Silver'] + medal_counts['Bronze']\n",
    "medal_counts"
   ]
  },
  {
   "cell_type": "code",
   "execution_count": null,
   "metadata": {},
   "outputs": [],
   "source": [
    "medal_counts_full[ medal_counts_full['at_home']] "
   ]
  },
  {
   "cell_type": "code",
   "execution_count": null,
   "metadata": {},
   "outputs": [],
   "source": [
    "medal_counts_full.loc[ medal_counts_full['at_home'] , 'Total_host']=medal_counts_full['Total'] \n",
    "medal_counts_full.loc[ medal_counts_full['at_home']==False , 'Total_not_host']=medal_counts_full['Total'] \n",
    "medal_counts_full\n"
   ]
  },
  {
   "attachments": {},
   "cell_type": "markdown",
   "metadata": {},
   "source": [
    "J'aime tester des trucs "
   ]
  },
  {
   "cell_type": "code",
   "execution_count": null,
   "metadata": {},
   "outputs": [],
   "source": [
    "medal_countsB = athlete_events.pivot_table(index=['countryName', 'at_home','Year'], values='Event', columns= ['Medal'], aggfunc=lambda x: len(x.unique()))\n",
    "medal_countsB.reset_index(inplace=True)\n",
    "medal_countsB"
   ]
  },
  {
   "cell_type": "code",
   "execution_count": null,
   "metadata": {},
   "outputs": [],
   "source": [
    "host =medal_countsB[medal_countsB.at_home==True]\n",
    "host['Total_host'] = host['Gold'] + host['Silver'] + host['Bronze']\n",
    "host.drop(['Gold','Silver','Bronze' ], axis=1, inplace=True)\n",
    "host\n"
   ]
  },
  {
   "cell_type": "code",
   "execution_count": null,
   "metadata": {},
   "outputs": [],
   "source": [
    "\n",
    "vistor =medal_countsB[medal_countsB.at_home==False]\n",
    "vistor['Total_v'] = vistor['Gold'] + vistor['Silver'] + vistor['Bronze']\n",
    "vistor.drop(['Gold','Silver','Bronze' ], axis=1, inplace=True)\n",
    "vistor"
   ]
  },
  {
   "attachments": {},
   "cell_type": "markdown",
   "metadata": {},
   "source": [
    "Comparaison hosts/visiteurs. On supprimes les pays ayants  jamais host"
   ]
  },
  {
   "cell_type": "code",
   "execution_count": null,
   "metadata": {},
   "outputs": [],
   "source": [
    "countries_to_compare = pd.merge(vistor, host, on=['countryName'], how='inner')\n",
    "countries_to_compare"
   ]
  },
  {
   "cell_type": "code",
   "execution_count": null,
   "metadata": {},
   "outputs": [],
   "source": [
    "countries_to_compare.groupby(['countryName', 'Total_v' ]).sum()"
   ]
  },
  {
   "cell_type": "code",
   "execution_count": null,
   "metadata": {},
   "outputs": [],
   "source": [
    "when_host = countries_to_compare.groupby(['countryName']).Total_host.nunique().to_frame('sum')"
   ]
  },
  {
   "cell_type": "code",
   "execution_count": null,
   "metadata": {},
   "outputs": [],
   "source": [
    "when_host"
   ]
  },
  {
   "cell_type": "code",
   "execution_count": null,
   "metadata": {},
   "outputs": [],
   "source": [
    "countries_to_compare.reset_index(inplace=True)"
   ]
  },
  {
   "cell_type": "code",
   "execution_count": null,
   "metadata": {},
   "outputs": [],
   "source": [
    "countries_to_compare"
   ]
  },
  {
   "cell_type": "code",
   "execution_count": null,
   "metadata": {},
   "outputs": [],
   "source": [
    "when_host= countries_to_compare.pivot_table(index=['countryName'], values='Total_host', aggfunc='count')\n",
    "when_host.reset_index(inplace=True)\n",
    "when_host"
   ]
  },
  {
   "cell_type": "code",
   "execution_count": null,
   "metadata": {},
   "outputs": [],
   "source": [
    "when_vist = countries_to_compare.pivot_table(index=['countryName'], values='Total_v',aggfunc= 'count')\n",
    "when_vist.reset_index(inplace=True)\n",
    "when_vist"
   ]
  },
  {
   "attachments": {},
   "cell_type": "markdown",
   "metadata": {},
   "source": [
    "A demain"
   ]
  }
 ],
 "metadata": {
  "kernelspec": {
   "display_name": "explo_env",
   "language": "python",
   "name": "python3"
  },
  "language_info": {
   "codemirror_mode": {
    "name": "ipython",
    "version": 3
   },
   "file_extension": ".py",
   "mimetype": "text/x-python",
   "name": "python",
   "nbconvert_exporter": "python",
   "pygments_lexer": "ipython3",
   "version": "3.10.2 (v3.10.2:a58ebcc701, Jan 13 2022, 14:50:16) [Clang 13.0.0 (clang-1300.0.29.30)]"
  },
  "orig_nbformat": 4,
  "vscode": {
   "interpreter": {
    "hash": "de8dabded9160c05795ebff51b1f19e8f278c4ffc16c2983d297e5670669de5a"
   }
  }
 },
 "nbformat": 4,
 "nbformat_minor": 2
}
