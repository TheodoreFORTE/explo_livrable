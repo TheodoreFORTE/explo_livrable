{
 "cells": [
  {
   "attachments": {},
   "cell_type": "markdown",
   "metadata": {},
   "source": [
    "Data récuperé sur collab "
   ]
  },
  {
   "cell_type": "code",
   "execution_count": 2,
   "metadata": {},
   "outputs": [],
   "source": [
    "import pandas as pd"
   ]
  },
  {
   "cell_type": "code",
   "execution_count": null,
   "metadata": {},
   "outputs": [],
   "source": [
    "\"\"\"\n",
    "import pandas as pd\n",
    "# @title Setup\n",
    "from google.colab import auth\n",
    "from google.cloud import bigquery\n",
    "from google.colab import data_table\n",
    "\n",
    "project = 'projectjo2024' \n",
    "from google.colab import auth\n",
    "auth.authenticate_user()\n",
    "client = bigquery.Client(project=project)\n",
    "data_table.enable_dataframe_formatter()\n",
    "client = bigquery.Client(project=project)\n",
    "athlete_events = client.query('''\n",
    "\n",
    "SELECT * FROM `projectjo2024.2024_122022.athlete_events`\n",
    "\n",
    "  ''').to_dataframe()\n",
    "  \"\"\""
   ]
  },
  {
   "cell_type": "code",
   "execution_count": null,
   "metadata": {},
   "outputs": [],
   "source": [
    "\"\"\"c2 = {\n",
    "    \"URS\" : \"Soviet Union\",\n",
    "    \"RHO\" : \"Rhodesia\",\n",
    "    \"SAA\" : \"Saar\",\n",
    "    \"CRT\" : 'Crete',\n",
    "    \"WIF\" : \"West Indies Federation \",\n",
    "    \"MAL\" :  \"Malaysia\",\n",
    "    'BOH' : \" Bohemia\",\n",
    "    \"LIB\" : \"French Liban\",\n",
    "    \"UNK\" : \"Unknow\", \n",
    "    \"YUG\" : \"Yugoslavia\", \n",
    "    \"ANZ\" : \"Australasia\",\n",
    "    \"YAR\" : \" Yemen Arab Republic\", \n",
    "    \"YMD\" : \"South Yemen\",\n",
    "    \"GRD\" : \"GRENADA\",\n",
    "    \"NFL\" : \"USA\", \n",
    "    \"NBO\" : \"North Borneo\",\n",
    "    \"EUN\" : \"Unified Team\",\n",
    "    \"FRG\" : \"West Germany\",\n",
    "    \"VMH\" : \"South Vietnam\",\n",
    "    \"TCH\" : \"Czechoslovakia\",\n",
    "    \"AHO\" : \"Netherlands Antilles\", \n",
    "    \"UAR\" : \"United Arab Republic\",\n",
    "    \"SCG\" : \"Serbia and Montenegro\",\n",
    "    \"ROT\" : \"Refugee Olympic Team\",\n",
    "    \"GDR\" : \"East Germany\",\n",
    "    \"VNM\" :  \"Vietnam\", \n",
    "    \"IOA\" : \"Indian Olympic Association\"\n",
    "\n",
    "    }\n",
    "ioc = pd.read_html('https://en.wikipedia.org/wiki/List_of_IOC_country_codes')[0]\n",
    "ioc = ioc.assign(Code=ioc['Code'].str[-3:]).set_index('Code')['National Olympic Committee']\n",
    "ioc = ioc.to_dict()\n",
    "ioc.update(c2)\n",
    "athlete_events['countryName'] = athlete_events['NOC'].map(ioc) \n",
    "athlete_events= athlete_events.drop([\"NOC\"], axis=1)\n",
    "\"\"\""
   ]
  },
  {
   "attachments": {},
   "cell_type": "markdown",
   "metadata": {},
   "source": [
    "Pour connaitre les NaNs"
   ]
  },
  {
   "cell_type": "code",
   "execution_count": 9,
   "metadata": {},
   "outputs": [
    {
     "ename": "AttributeError",
     "evalue": "'DataFrame' object has no attribute 'NOC'",
     "output_type": "error",
     "traceback": [
      "\u001b[0;31m---------------------------------------------------------------------------\u001b[0m",
      "\u001b[0;31mAttributeError\u001b[0m                            Traceback (most recent call last)",
      "Cell \u001b[0;32mIn[9], line 3\u001b[0m\n\u001b[1;32m      1\u001b[0m athlete_events[\u001b[39m'\u001b[39m\u001b[39mcountryName\u001b[39m\u001b[39m'\u001b[39m]\u001b[39m.\u001b[39misna()\u001b[39m.\u001b[39msum()\n\u001b[1;32m      2\u001b[0m nan_in_col  \u001b[39m=\u001b[39m athlete_events[athlete_events[\u001b[39m'\u001b[39m\u001b[39mcountryName\u001b[39m\u001b[39m'\u001b[39m]\u001b[39m.\u001b[39misnull()]\n\u001b[0;32m----> 3\u001b[0m nan_in_col\u001b[39m.\u001b[39;49mNOC\u001b[39m.\u001b[39munique()\n",
      "File \u001b[0;32m~/repo/Hetic/analyse_explo/explo_env/lib/python3.10/site-packages/pandas/core/generic.py:5902\u001b[0m, in \u001b[0;36mNDFrame.__getattr__\u001b[0;34m(self, name)\u001b[0m\n\u001b[1;32m   5895\u001b[0m \u001b[39mif\u001b[39;00m (\n\u001b[1;32m   5896\u001b[0m     name \u001b[39mnot\u001b[39;00m \u001b[39min\u001b[39;00m \u001b[39mself\u001b[39m\u001b[39m.\u001b[39m_internal_names_set\n\u001b[1;32m   5897\u001b[0m     \u001b[39mand\u001b[39;00m name \u001b[39mnot\u001b[39;00m \u001b[39min\u001b[39;00m \u001b[39mself\u001b[39m\u001b[39m.\u001b[39m_metadata\n\u001b[1;32m   5898\u001b[0m     \u001b[39mand\u001b[39;00m name \u001b[39mnot\u001b[39;00m \u001b[39min\u001b[39;00m \u001b[39mself\u001b[39m\u001b[39m.\u001b[39m_accessors\n\u001b[1;32m   5899\u001b[0m     \u001b[39mand\u001b[39;00m \u001b[39mself\u001b[39m\u001b[39m.\u001b[39m_info_axis\u001b[39m.\u001b[39m_can_hold_identifiers_and_holds_name(name)\n\u001b[1;32m   5900\u001b[0m ):\n\u001b[1;32m   5901\u001b[0m     \u001b[39mreturn\u001b[39;00m \u001b[39mself\u001b[39m[name]\n\u001b[0;32m-> 5902\u001b[0m \u001b[39mreturn\u001b[39;00m \u001b[39mobject\u001b[39;49m\u001b[39m.\u001b[39;49m\u001b[39m__getattribute__\u001b[39;49m(\u001b[39mself\u001b[39;49m, name)\n",
      "\u001b[0;31mAttributeError\u001b[0m: 'DataFrame' object has no attribute 'NOC'"
     ]
    }
   ],
   "source": [
    "\"\"\"\"\n",
    "athlete_events['countryName'].isna().sum()\n",
    "nan_in_col  = athlete_events[athlete_events['countryName'].isnull()]\n",
    "nan_in_col.NOC.unique()\n",
    "\"\"\""
   ]
  },
  {
   "cell_type": "code",
   "execution_count": 3,
   "metadata": {},
   "outputs": [],
   "source": [
    "athlete_events= pd.read_csv('/Users/camille/repo/Hetic/analyse_explo/athlete_events.csv')"
   ]
  },
  {
   "cell_type": "code",
   "execution_count": 5,
   "metadata": {},
   "outputs": [],
   "source": [
    "country =  {'Madrid':'Spain',\n",
    "            'Roma':'Italy',\n",
    "            'Amsterdam':'Netherlands',\n",
    "            'Tokyo':'Japan' ,\n",
    "            'Helsinki':'Finland',\n",
    "            'Los Angeles':'USA' ,\n",
    "            'London':'England' ,\n",
    "            'Berlin':'Germany' ,\n",
    "            'Melbourne':'Australia' ,\n",
    "            'Paris':'France',\n",
    "            'Mexico City':'Mexico',\n",
    "            'Munich':'Germany',\n",
    "            'Seoul':'South Korea',\n",
    "            'Barcelona':'Spain',\n",
    "            'Atlanta':'USA',\n",
    "            'Sydney':'Australia',\n",
    "            'Athina':'Greece',\n",
    "            'Beijing':'China',\n",
    "            'Rio de Janeiro':'Brasil',\n",
    "            'St. Louis':'USA',\n",
    "            'Montreal':'Canada',\n",
    "            'Moskva':'Russia',\n",
    "            'Calgary':'Canada',\n",
    "            'Lillehammer':'Norway',\n",
    "            'Salt Lake City':'USA',\n",
    "            \"Cortina d'Ampezzo\":'Italy',\n",
    "            'Innsbruck':'Austria',\n",
    "            'Grenoble':'France',\n",
    "            'Saporo':'Japan',\n",
    "            'Nagano':'Japan',\n",
    "            'Torino':'Italy',\n",
    "            'Vancouver':'Canada',\n",
    "            'Sochi':'Russia',\n",
    "            'Stockholm':'Sweden',\n",
    "            'Sankt Moritz':'Switzerland',\n",
    "            'Oslo':'Norway',\n",
    "            'Squaw Valley':'USA',\n",
    "            'Sarajevo':'Bosnia and Herzegovina',\n",
    "            'Albertville':'France',\n",
    "            'Lake Placid':'USA',\n",
    "            'Chamonix':'France',\n",
    "            'Garmisch-Partenkirchen':'Germany',\n",
    "            'Antwerpen' : 'Belgium',\n",
    "            'Sapporo' : 'Japan'\n",
    "\n",
    "            }\n",
    "\n"
   ]
  },
  {
   "cell_type": "code",
   "execution_count": 7,
   "metadata": {},
   "outputs": [],
   "source": [
    "athlete_events[\"Country_orga\"]= athlete_events[\"City\"].map(country)\n",
    "athlete_events= athlete_events.drop([\"City\"], axis=1)"
   ]
  }
 ],
 "metadata": {
  "kernelspec": {
   "display_name": "explo_env",
   "language": "python",
   "name": "python3"
  },
  "language_info": {
   "codemirror_mode": {
    "name": "ipython",
    "version": 3
   },
   "file_extension": ".py",
   "mimetype": "text/x-python",
   "name": "python",
   "nbconvert_exporter": "python",
   "pygments_lexer": "ipython3",
   "version": "3.10.2"
  },
  "orig_nbformat": 4,
  "vscode": {
   "interpreter": {
    "hash": "de8dabded9160c05795ebff51b1f19e8f278c4ffc16c2983d297e5670669de5a"
   }
  }
 },
 "nbformat": 4,
 "nbformat_minor": 2
}
